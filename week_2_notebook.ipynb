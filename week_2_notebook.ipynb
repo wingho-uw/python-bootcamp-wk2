{
 "cells": [
  {
   "cell_type": "markdown",
   "id": "f4b711a7-1a15-484e-b950-a099a0807421",
   "metadata": {},
   "source": [
    "Oceanography python bootcamp, Winter 2025\n",
    "# Week 2 notebook"
   ]
  },
  {
   "cell_type": "markdown",
   "id": "61d2e1d3-10fc-4ccb-9b61-97e26c657c1c",
   "metadata": {},
   "source": [
    "## Python list"
   ]
  },
  {
   "cell_type": "code",
   "execution_count": null,
   "id": "660c65c2-00e4-4309-8a9f-d81f2771309f",
   "metadata": {},
   "outputs": [],
   "source": [
    "# creating a list manually, and print it out\n",
    "# NOTE that the list is heterogenous\n",
    "\n",
    "a_list = [15, \"where\", \"am\", 1]\n",
    "print(a_list)"
   ]
  },
  {
   "cell_type": "code",
   "execution_count": null,
   "id": "b8968921-7061-478f-96cf-4229e22e73b4",
   "metadata": {},
   "outputs": [],
   "source": [
    "# python list can be nested\n",
    "b_list = [\"this\", \"is\", \"a\", [\"nested\", \"python\", \"list\"]]\n",
    "print(b_list)"
   ]
  },
  {
   "cell_type": "code",
   "execution_count": null,
   "id": "9a90dc2a-2ac5-4589-a89b-50f3fe49f2be",
   "metadata": {},
   "outputs": [],
   "source": [
    "# join the content of two lists\n",
    "[15, 20] + [\"this\", \"that\"]"
   ]
  },
  {
   "cell_type": "code",
   "execution_count": null,
   "id": "346dc666-410f-449a-923a-55a54ed33d1f",
   "metadata": {},
   "outputs": [],
   "source": [
    "# repeat the content of one list multiple times\n",
    "# NOTE that this is DIFFERENT from the numpy array behavior\n",
    "[15, 20] * 3"
   ]
  },
  {
   "cell_type": "code",
   "execution_count": null,
   "id": "40d13988-73b7-43b3-9031-041f28a2aeaf",
   "metadata": {},
   "outputs": [],
   "source": [
    "# extract element in the list\n",
    "# NOTE that index starts from 0\n",
    "\n",
    "a1 = a_list[1]\n",
    "print(a1)"
   ]
  },
  {
   "cell_type": "code",
   "execution_count": null,
   "id": "26d29690-725a-40e8-8341-9f10ab9a8970",
   "metadata": {},
   "outputs": [],
   "source": [
    "# You can mutate the values of a list\n",
    "\n",
    "a_list[1] = \"which\"\n",
    "print(a_list)"
   ]
  },
  {
   "cell_type": "markdown",
   "id": "5ba645cd-9bda-470f-9459-9e710756a36e",
   "metadata": {},
   "source": [
    "----\n",
    "\n",
    "_**Exploration #1**_: Explore the values/contents of `a_list`, `b_list`, and `c` in the code below. Explain the result using the conceptual picture"
   ]
  },
  {
   "cell_type": "code",
   "execution_count": null,
   "id": "df995be2-f275-4058-9954-8212d0304fae",
   "metadata": {},
   "outputs": [],
   "source": [
    "a_list = [1, 2, 3, 4]\n",
    "b_list = a_list\n",
    "c = a_list[1]\n",
    "a_list[1] = -1\n",
    "\n",
    "print(a_list, \"\\n\", b_list, \"\\n\", c)"
   ]
  },
  {
   "cell_type": "markdown",
   "id": "5f3bd11e-7fee-43f3-ad20-68e1760f9e15",
   "metadata": {},
   "source": [
    "----"
   ]
  },
  {
   "cell_type": "code",
   "execution_count": null,
   "id": "7be29c72-5e82-4c48-bbe3-f7a01a4f9259",
   "metadata": {},
   "outputs": [],
   "source": [
    "# slice a python list to create a new list\n",
    "# Note that the end index is EXCLUSIVE\n",
    "\n",
    "a_list = [1, 2, 3, 4]\n",
    "b_list = a_list[1:3]\n",
    "\n",
    "print(b_list)"
   ]
  },
  {
   "cell_type": "code",
   "execution_count": null,
   "id": "585fc6b9-f6d3-4129-a4d1-18ec4395a79c",
   "metadata": {},
   "outputs": [],
   "source": [
    "# start index can be skipped if it is 0\n",
    "# end index can be skipped if it is the length of list\n",
    "\n",
    "a_list = [1, 2, 3, 4]\n",
    "b_list = a_list[::2]\n",
    "c_list = a_list[2::]\n",
    "\n",
    "print(b_list, \"\\n\", c_list)"
   ]
  },
  {
   "cell_type": "code",
   "execution_count": null,
   "id": "5947f514-a12b-46b5-8c13-fb49d6f4b879",
   "metadata": {},
   "outputs": [],
   "source": [
    "# start and end index can also counts from the end (using negative values)\n",
    "\n",
    "a_list = [1, 2, 3, 4]\n",
    "b_list = a_list[-3:-1]\n",
    "\n",
    "print(b_list)"
   ]
  },
  {
   "cell_type": "code",
   "execution_count": null,
   "id": "b002ecef-2678-4dd2-8e17-f5d7b774bdaf",
   "metadata": {},
   "outputs": [],
   "source": [
    "# more complicated slicing with a \"step\" specification\n",
    "a_list = [1, 2, 3, 4]\n",
    "b_list = a_list[1::2]\n",
    "\n",
    "print(b_list)"
   ]
  },
  {
   "cell_type": "code",
   "execution_count": null,
   "id": "9d6c9b17-7f8e-4c12-baed-30eaeb5bb6ba",
   "metadata": {},
   "outputs": [],
   "source": [
    "# list can be nested...\n",
    "a_list = [-1, 0, [1, 2, 3]]\n",
    "a_list[2]"
   ]
  },
  {
   "cell_type": "code",
   "execution_count": null,
   "id": "f39eb773-17d6-487f-87f5-a11c240c15a0",
   "metadata": {},
   "outputs": [],
   "source": [
    "# ... and indexing can be nested\n",
    "a_list[2][1]"
   ]
  },
  {
   "cell_type": "markdown",
   "id": "1105728c-940a-4ec7-8c5a-4ec47d774a52",
   "metadata": {},
   "source": [
    "----"
   ]
  },
  {
   "cell_type": "code",
   "execution_count": null,
   "id": "69d9d89a-00eb-437e-8c31-5ed5c1667a3e",
   "metadata": {},
   "outputs": [],
   "source": [
    "# appending an existing list\n",
    "a_list = [1, 2, 3]\n",
    "a_list.append(-1)\n",
    "\n",
    "print(a_list)"
   ]
  },
  {
   "cell_type": "code",
   "execution_count": null,
   "id": "10efc0fb-4cae-47c2-a00c-8ac0c1cc4474",
   "metadata": {},
   "outputs": [],
   "source": [
    "# NOTE: outer container is not needed for append\n",
    "# Otherwise it gives you a nested list\n",
    "a_list = [1, 2, 3]\n",
    "a_list.append([-1])\n",
    "\n",
    "print(a_list)"
   ]
  },
  {
   "cell_type": "code",
   "execution_count": null,
   "id": "563b9c32-0e16-40ed-804b-1046052cbd7c",
   "metadata": {},
   "outputs": [],
   "source": [
    "# extending an existing list\n",
    "a_list = [1, 2, 3]\n",
    "a_list.extend([9, 16])\n",
    "\n",
    "print(a_list)"
   ]
  },
  {
   "cell_type": "code",
   "execution_count": null,
   "id": "155ff76c-9e49-4cde-968b-95ae062ddc0f",
   "metadata": {},
   "outputs": [],
   "source": [
    "# poping an existing list\n",
    "a_list = [1, 2, 3]\n",
    "c = a_list.pop()\n",
    "\n",
    "print(a_list)\n",
    "print(c)"
   ]
  },
  {
   "cell_type": "code",
   "execution_count": null,
   "id": "fb658d6a-fa93-428b-a1af-1d4ed00097d7",
   "metadata": {},
   "outputs": [],
   "source": [
    "# count the number of elements in a list\n",
    "x = [1, 2, 3, 4, 5]\n",
    "len(x)"
   ]
  },
  {
   "cell_type": "code",
   "execution_count": null,
   "id": "b9e39b4a-dc1a-493e-98e4-9a9ddfb1fbfe",
   "metadata": {},
   "outputs": [],
   "source": [
    "# Note the behavior of len on nested list\n",
    "x = [1, [2, 3], [4, 5]]\n",
    "len(x)"
   ]
  },
  {
   "cell_type": "code",
   "execution_count": null,
   "id": "05d3de68-2f53-442a-8a45-33971aa32104",
   "metadata": {},
   "outputs": [],
   "source": [
    "# sorting a list IN-PLACE\n",
    "a_list = [0, -1, 1, -2, 2]\n",
    "a_list.sort()\n",
    "\n",
    "print(a_list)"
   ]
  },
  {
   "cell_type": "code",
   "execution_count": null,
   "id": "ee4831c5-59c3-4fa4-b008-eb26667091eb",
   "metadata": {},
   "outputs": [],
   "source": [
    "# sorting a list and output result\n",
    "a_list = [0, -1, 1, -2, 2]\n",
    "b_list = sorted(a_list)\n",
    "\n",
    "print(a_list)\n",
    "print(b_list)"
   ]
  },
  {
   "cell_type": "code",
   "execution_count": null,
   "id": "0e02b40d-991b-4690-bffc-1b273eb7602a",
   "metadata": {},
   "outputs": [],
   "source": [
    "# mutating a list via slicing\n",
    "\n",
    "a_list = [1, 2, 3, 4]\n",
    "a_list[1::2] = [-5,-10]\n",
    "\n",
    "a_list"
   ]
  },
  {
   "cell_type": "code",
   "execution_count": null,
   "id": "98473690-a823-4dbb-8f73-66a8c241eb94",
   "metadata": {},
   "outputs": [],
   "source": [
    "# search for an element\n",
    "\n",
    "a_list = [1, 3, 5, 7, 9]\n",
    "a_list.index(5)"
   ]
  },
  {
   "cell_type": "code",
   "execution_count": null,
   "id": "c84a3b81-ca74-4e54-8000-7e759c52f07d",
   "metadata": {},
   "outputs": [],
   "source": [
    "# remove an element\n",
    "\n",
    "a_list = [1, 3, 5, 7, 9]\n",
    "a_list.remove(5)\n",
    "\n",
    "a_list"
   ]
  },
  {
   "cell_type": "markdown",
   "id": "c345769b-d635-4330-b066-91a108fcebc2",
   "metadata": {},
   "source": [
    "### Aside: string indexing and slicing"
   ]
  },
  {
   "cell_type": "code",
   "execution_count": null,
   "id": "e612f25c-388c-4510-b951-f91a8569b829",
   "metadata": {},
   "outputs": [],
   "source": [
    "# example of string slicing\n",
    "\n",
    "sentence = \"This is a good day\"\n",
    "sentence[10:14]"
   ]
  },
  {
   "cell_type": "markdown",
   "id": "e3904f0a-9fe2-422d-b962-9717bf00729c",
   "metadata": {},
   "source": [
    "### Aside: string join and split"
   ]
  },
  {
   "cell_type": "code",
   "execution_count": null,
   "id": "b4604647-fa2b-4e9f-a277-8348e1b1b8fe",
   "metadata": {},
   "outputs": [],
   "source": [
    "# an example of splitting a single string into list of strings\n",
    "\n",
    "word_list = \"This is bad\".split(\" \")\n",
    "word_list"
   ]
  },
  {
   "cell_type": "code",
   "execution_count": null,
   "id": "59880199-b1e7-47e5-900c-501694740548",
   "metadata": {},
   "outputs": [],
   "source": [
    "# joining back\n",
    "\"_\".join(word_list)"
   ]
  },
  {
   "cell_type": "markdown",
   "id": "ad514ad8-2550-4467-8b69-75be0a1604c1",
   "metadata": {},
   "source": [
    "## For loops"
   ]
  },
  {
   "cell_type": "code",
   "execution_count": null,
   "id": "ed826141-e787-47c9-91ad-fac01ffe373e",
   "metadata": {},
   "outputs": [],
   "source": [
    "# a basic for loop\n",
    "\n",
    "a_list = [0, 1, 2, 3]\n",
    "for x in a_list:\n",
    "    print(x)"
   ]
  },
  {
   "cell_type": "code",
   "execution_count": null,
   "id": "629a7dd9-3584-4564-8968-25309e5f32a3",
   "metadata": {},
   "outputs": [],
   "source": [
    "# the sample result achieved using range\n",
    "for x in range(4):\n",
    "    print(x)"
   ]
  },
  {
   "cell_type": "code",
   "execution_count": null,
   "id": "a33da256-af22-4e55-8a90-4fed0142d647",
   "metadata": {},
   "outputs": [],
   "source": [
    "# the sample result, with full syntax of range\n",
    "for x in range(0, 4, 1):\n",
    "    print(x)"
   ]
  },
  {
   "cell_type": "code",
   "execution_count": null,
   "id": "497807a3-bef2-45e3-8cb7-db043e51471b",
   "metadata": {},
   "outputs": [],
   "source": [
    "# convert a range object to the corresponding list\n",
    "a_list = list(range(4))\n",
    "print(a_list)"
   ]
  },
  {
   "cell_type": "code",
   "execution_count": null,
   "id": "9cd6e774-1efc-4d33-b554-cfb7eb2d7656",
   "metadata": {},
   "outputs": [],
   "source": [
    "# index and element at the same time, using enumerate()\n",
    "\n",
    "vowels = [\"a\", \"e\", \"i\", \"o\", \"u\"]\n",
    "\n",
    "for i, x in enumerate(vowels):\n",
    "\tprint(f\"index {i} has value {x}\")"
   ]
  },
  {
   "cell_type": "markdown",
   "id": "e7c48e1d-e0e1-48d1-99bd-b1b1f80ec2b6",
   "metadata": {},
   "source": [
    "----\n",
    "\n",
    "_**Code writing #3.**_ Create a for loop that print out all positive even number smaller than 30, one number each line"
   ]
  },
  {
   "cell_type": "code",
   "execution_count": null,
   "id": "6bc71b45-94fe-4ada-98ea-f8036d73ac0b",
   "metadata": {},
   "outputs": [],
   "source": []
  },
  {
   "cell_type": "markdown",
   "id": "3e034497-8891-43e5-88e8-d4d27ece3e6a",
   "metadata": {},
   "source": [
    "### if-elif-else"
   ]
  },
  {
   "cell_type": "code",
   "execution_count": null,
   "id": "f8155bb3-b044-4c44-a9a3-b4609c27b488",
   "metadata": {},
   "outputs": [],
   "source": [
    "# example of a simple branching statmemt\n",
    "\n",
    "x = -5\n",
    "\n",
    "if x > 0:\n",
    "    print(\"x is positive\")\n",
    "else:\n",
    "    print(\"x is 0 or negative\")"
   ]
  },
  {
   "cell_type": "code",
   "execution_count": null,
   "id": "7ee56c38-3fe6-4ccd-b517-9c4ac739c0a9",
   "metadata": {},
   "outputs": [],
   "source": [
    "# an example involving elif\n",
    "\n",
    "x = -5\n",
    "\n",
    "if x == 0:\n",
    "    print(\"x is zero\")\n",
    "elif x > 0:\n",
    "    print(\"x is positive\")\n",
    "else:\n",
    "    print(\"x is negative\")"
   ]
  },
  {
   "cell_type": "code",
   "execution_count": null,
   "id": "c5b748fd-8868-4658-a4b7-33da609f5150",
   "metadata": {},
   "outputs": [],
   "source": [
    "# check the boolean value of a few objects\n",
    "\n",
    "a = bool(3.14)\n",
    "b = bool(2)\n",
    "c = bool(0)\n",
    "print(a, b, c)\n",
    "\n",
    "a = bool(None)\n",
    "b = bool(True)\n",
    "c = bool(False)\n",
    "print(a, b, c)\n",
    "\n",
    "a = bool([1, 2])\n",
    "b = bool([])\n",
    "print(a, b)"
   ]
  },
  {
   "cell_type": "code",
   "execution_count": null,
   "id": "4804dfb7-736a-4a24-b547-25c95245fe93",
   "metadata": {},
   "outputs": [],
   "source": [
    "# check containment\n",
    "a_list = [1, 2, 3]\n",
    "2 in a_list"
   ]
  },
  {
   "cell_type": "code",
   "execution_count": null,
   "id": "d61d8f4b-f259-4c1c-827b-113334d2cd3a",
   "metadata": {},
   "outputs": [],
   "source": [
    "0 in a_list"
   ]
  },
  {
   "cell_type": "code",
   "execution_count": null,
   "id": "3bf89d7b-6bcf-4a9f-abac-c0476303d45f",
   "metadata": {},
   "outputs": [],
   "source": [
    "0 not in a_list"
   ]
  },
  {
   "cell_type": "markdown",
   "id": "ba226f0d-3c30-41cd-a74e-33779932ae7c",
   "metadata": {},
   "source": [
    "----\n",
    "\n",
    "_**Debugging #5.**_ You want to issue a warning if T < 5 (°C) and an alert if T < 0. What is wrong with the code below? Fix it."
   ]
  },
  {
   "cell_type": "code",
   "execution_count": null,
   "id": "26492179-165d-4a2e-8ba9-aee8c77dfc8e",
   "metadata": {},
   "outputs": [],
   "source": [
    "T = -2\n",
    "\n",
    "if T < 5:\n",
    "\tprint(\"Warning: T < 5\")\n",
    "elif T < 0:\n",
    "\tprint(\"Alert: T < 0\")\n",
    "else:\n",
    "\tprint(\"All is well\")"
   ]
  },
  {
   "cell_type": "markdown",
   "id": "eb0efad4-ce87-473b-8986-994f81d9af16",
   "metadata": {},
   "source": [
    "## Combining for loop with if-elif-else"
   ]
  },
  {
   "cell_type": "code",
   "execution_count": null,
   "id": "58f6cf6b-9a89-4926-8c3c-32f3cb159462",
   "metadata": {},
   "outputs": [],
   "source": [
    "# Remove vowels from the words of a sentence\n",
    "\n",
    "sentence = \"This is an apple\"\n",
    "out = \"\"\n",
    "\n",
    "for a in sentence:\n",
    "    if a not in \"aeiou\":\n",
    "        out = out + a\n",
    "\n",
    "print(out)"
   ]
  },
  {
   "cell_type": "code",
   "execution_count": null,
   "id": "184cfecd-92ae-4d27-8d26-3039405f3365",
   "metadata": {},
   "outputs": [],
   "source": [
    "# using break\n",
    "\n",
    "for x in range(1, 11):\n",
    "    if x % 3 == 0:\n",
    "        break\n",
    "    print(x)"
   ]
  },
  {
   "cell_type": "code",
   "execution_count": null,
   "id": "404e5f16-5618-47ae-88a2-b0d7e5d2d359",
   "metadata": {},
   "outputs": [],
   "source": [
    "# the corresponding result with break replaced by continue\n",
    "\n",
    "for x in range(1, 11):\n",
    "    if x % 3 == 0:\n",
    "        continue\n",
    "    print(x)"
   ]
  },
  {
   "cell_type": "markdown",
   "id": "9e9b32e2-6244-4211-9cc9-96a140532645",
   "metadata": {},
   "source": [
    "----\n",
    "\n",
    "_**Debugging 6.**_ You want to to print every word (string) from the nested list. Figure out why it doesn’t work and fix it."
   ]
  },
  {
   "cell_type": "code",
   "execution_count": null,
   "id": "a3248bae-f593-4d05-bd3f-2108cc147363",
   "metadata": {},
   "outputs": [],
   "source": [
    "# Given data (DO NOT CHANGE!)\n",
    "word_list = [[\"Where\", \"am\", \"I\"], [\"This\", \"is\", \"good\"], \"lol\"]"
   ]
  },
  {
   "cell_type": "code",
   "execution_count": null,
   "id": "1074401c-46f9-4258-94c5-0c7b946141bd",
   "metadata": {},
   "outputs": [],
   "source": [
    "for part in word_list:\n",
    "    for word in part:\n",
    "        print(word)"
   ]
  },
  {
   "cell_type": "markdown",
   "id": "606cee2d-6512-4d57-9695-f36fdb8eb36c",
   "metadata": {},
   "source": [
    "## Additional collection types"
   ]
  },
  {
   "cell_type": "markdown",
   "id": "c7791c9b-235d-4f5d-be55-7737addd3415",
   "metadata": {},
   "source": [
    "### Dictionary type"
   ]
  },
  {
   "cell_type": "code",
   "execution_count": null,
   "id": "a0f28c69-4a31-4780-a071-96cf23fc17d0",
   "metadata": {},
   "outputs": [],
   "source": [
    "# create dictionary by hand\n",
    "a_dict = {\"a\": 2, \"b\": [-1, 1]}"
   ]
  },
  {
   "cell_type": "code",
   "execution_count": null,
   "id": "65eb6ffe-00a2-4924-8e5a-71e490e9be17",
   "metadata": {},
   "outputs": [],
   "source": [
    "# insert (or update if not exists) a new entry\n",
    "a_dict[\"c\"] = 25\n",
    "print(a_dict)"
   ]
  },
  {
   "cell_type": "code",
   "execution_count": null,
   "id": "939476cf-c2d2-438d-9769-7995f1320498",
   "metadata": {},
   "outputs": [],
   "source": [
    "# delete a pair from the dictionary\n",
    "x = a_dict.pop(\"a\")\n",
    "print(a_dict)\n",
    "print(x)"
   ]
  },
  {
   "cell_type": "code",
   "execution_count": null,
   "id": "55f262a8-f8a7-4a25-a2b7-00a9638274a6",
   "metadata": {},
   "outputs": [],
   "source": [
    "# iterating both keys and values\n",
    "for key, val in a_dict.items():\n",
    "    print(f\"key {key} has value {val}\")"
   ]
  },
  {
   "cell_type": "code",
   "execution_count": null,
   "id": "518870ed-c847-4e68-82c1-bfdd524aea54",
   "metadata": {},
   "outputs": [],
   "source": [
    "# check if a key is in the dictionary\n",
    "if \"a\" in a_dict:\n",
    "    print(\"a is in a_dict\")\n",
    "else:\n",
    "    print(\"a is not in a_dict\")"
   ]
  },
  {
   "cell_type": "markdown",
   "id": "b00c6ff5-c82e-494f-b0c9-be1035552960",
   "metadata": {},
   "source": [
    "### Set type"
   ]
  },
  {
   "cell_type": "code",
   "execution_count": null,
   "id": "272e355b-a975-45ca-8af5-da3da26ffe53",
   "metadata": {},
   "outputs": [],
   "source": [
    "# create a set by hand\n",
    "a_set = {\"a\", \"e\", \"i\", \"o\", \"u\"}"
   ]
  },
  {
   "cell_type": "code",
   "execution_count": null,
   "id": "265d2aa8-61fa-4bd4-9efd-39e4da9df761",
   "metadata": {},
   "outputs": [],
   "source": [
    "# add a new entry (no operation if entry already exists)\n",
    "a_set.add(\"y\")\n",
    "a_set.add(\"e\")\n",
    "print(a_set)"
   ]
  },
  {
   "cell_type": "code",
   "execution_count": null,
   "id": "47e456b2-91f9-4c38-9157-725f0d43d59e",
   "metadata": {},
   "outputs": [],
   "source": [
    "# check if element is in a set:\n",
    "\"z\" in a_set"
   ]
  },
  {
   "cell_type": "markdown",
   "id": "72e9e05b-b366-4706-8127-9d40e721df00",
   "metadata": {},
   "source": [
    "### Tuple type"
   ]
  },
  {
   "cell_type": "code",
   "execution_count": null,
   "id": "6ee6fdf4-4cc3-47a3-b338-145aa03d7265",
   "metadata": {},
   "outputs": [],
   "source": [
    "# Creating a record, with id and name\n",
    "record = (5124, \"Wingho\")"
   ]
  },
  {
   "cell_type": "code",
   "execution_count": null,
   "id": "67726137-93e8-43c9-bd24-6a9b72de0c82",
   "metadata": {},
   "outputs": [],
   "source": [
    "# extract the id\n",
    "record[0]"
   ]
  },
  {
   "cell_type": "markdown",
   "id": "67a12e8b-ba46-434e-b06c-68d06581f515",
   "metadata": {},
   "source": [
    "### Exercise"
   ]
  },
  {
   "cell_type": "markdown",
   "id": "244c8608-d10a-4bf9-b26e-e462f8466600",
   "metadata": {},
   "source": [
    "_**Code writing #7.**_ You are given two sets of records (defined as `old_records` and `new_records` as shown below). In each record, the first element is a unique ID, and the second element is a measured value between 0 and 1. You are told that the set of IDs in the two sets of records are identical, but in each set of records the order of IDs are different.\n",
    "\n",
    "You want to find the list of ID for which the old measurement differs from the new measurement. Write a short block of code that achieve the above task. The code should produce a list name `diff_IDs` that contains all the ID's for which "
   ]
  },
  {
   "cell_type": "code",
   "execution_count": null,
   "id": "f0a7550b-28df-4c79-8b22-33a2293583ad",
   "metadata": {},
   "outputs": [],
   "source": [
    "new_records = [\n",
    "    (2654, 0.04), (2632, 0.86), (3435, 0.02), (2495, 0.2),\n",
    "    (7663, 0.72), (4261, 0.61), (2553, 0.61), (7568, 0.22),\n",
    "    (4072, 0.12), (6711, 0.05), (5158, 0.43), (1831, 0.03),\n",
    "    (4244, 0.86), (7662, 0.69), (7422, 0.09), (1960, 0.76),\n",
    "    (7181, 0.84), (1581, 0.15), (9079, 0.71), (2233, 0.54)\n",
    "]"
   ]
  },
  {
   "cell_type": "code",
   "execution_count": null,
   "id": "6910963d-6d84-4925-8fb1-9b364f6e923e",
   "metadata": {},
   "outputs": [],
   "source": [
    "old_records = [\n",
    "    (1960, 0.76), (4244, 0.86), (2495, 0.56), (7181, 0.79),\n",
    "    (7663, 0.72), (7568, 0.78), (4261, 0.61), (1831, 0.03),\n",
    "    (9079, 0.71), (4072, 0.91), (3435, 0.02), (2654, 0.64),\n",
    "    (7662, 0.69), (2632, 0.86), (5158, 0.43), (2233, 0.54),\n",
    "    (7422, 0.09), (6711, 0.17), (1581, 0.15), (2553, 0.61)\n",
    "]"
   ]
  },
  {
   "cell_type": "markdown",
   "id": "23282f59-5259-4d16-9ff0-d8d077b934ed",
   "metadata": {},
   "source": [
    "## Writing functions"
   ]
  },
  {
   "cell_type": "code",
   "execution_count": null,
   "id": "48a119b0-ddf0-431b-b48a-8737f50adcb4",
   "metadata": {},
   "outputs": [],
   "source": [
    "# simple function with two arguments\n",
    "\n",
    "def multplus(x, y):\n",
    "    return x * y + y\n",
    "\n",
    "# call the function\n",
    "multplus(3, 5)"
   ]
  },
  {
   "cell_type": "code",
   "execution_count": null,
   "id": "d52d1afe-d097-41f3-a102-123d60d97080",
   "metadata": {},
   "outputs": [],
   "source": [
    "# possible code before turning into a function\n",
    "\n",
    "a_list = [2, 1, 0, -1, -2]\n",
    "for x in a_list:\n",
    "    if x < 0:\n",
    "        break\n",
    "print(x)"
   ]
  },
  {
   "cell_type": "code",
   "execution_count": null,
   "id": "a32c9a75-8510-4806-84ef-f30698f67bb7",
   "metadata": {},
   "outputs": [],
   "source": [
    "# a function with early return\n",
    "\n",
    "def first_negative(iterable):\n",
    "    for x in iterable:\n",
    "        if x < 0:\n",
    "            return x # early return\n",
    "            \n",
    "    return None # no negative values\n",
    "\n",
    "a = first_negative([2, 1, 0, -1, -2])\n",
    "\n",
    "b = first_negative([1, 2, 3, 4, 5])\n",
    "\n",
    "print(a, b)"
   ]
  },
  {
   "cell_type": "code",
   "execution_count": null,
   "id": "a5715536-b1cd-43ae-8247-afd8925f0824",
   "metadata": {},
   "outputs": [],
   "source": [
    "# a function with no explicit return, only side effects\n",
    "\n",
    "def print_positive(iterable):\n",
    "    for x in iterable:\n",
    "        if x > 0:\n",
    "            print(x)\n",
    "\n",
    "print_positive([1, -1, 2, -2])"
   ]
  },
  {
   "cell_type": "markdown",
   "id": "b5b45816-6073-4888-825a-5d9413fdfd47",
   "metadata": {},
   "source": [
    "----\n",
    "\n",
    "_**Code writing #8.**_ The following code produces the first 10 fibonacci number in the list out. Base on this code, write a function that takes an argument n and returns the first n fibonacci number in a list"
   ]
  },
  {
   "cell_type": "code",
   "execution_count": null,
   "id": "57115027-2af6-4a6d-a970-f3e05f413b02",
   "metadata": {},
   "outputs": [],
   "source": [
    "out = [1, 1]\n",
    "for i in range(2, 10):\n",
    "\tout.append(out[i-2] + out[i-1])"
   ]
  },
  {
   "cell_type": "code",
   "execution_count": null,
   "id": "c7d6785d-07ff-460a-963b-5cf13b8c3c5a",
   "metadata": {},
   "outputs": [],
   "source": [
    "# Your function definition here"
   ]
  },
  {
   "cell_type": "markdown",
   "id": "e07879dc-e26e-4a2d-8260-53656a5905e9",
   "metadata": {},
   "source": [
    "----"
   ]
  },
  {
   "cell_type": "code",
   "execution_count": null,
   "id": "947726df-f099-4d07-91b4-ffb7e87a99d0",
   "metadata": {},
   "outputs": [],
   "source": [
    "# global variable as implicit interface\n",
    "\n",
    "a = 1\n",
    "def add_a(x):\n",
    "    return x + a\n",
    "\n",
    "print(add_a(5))\n",
    "\n",
    "a = -2\n",
    "\n",
    "print(add_a(5))\n"
   ]
  },
  {
   "cell_type": "code",
   "execution_count": null,
   "id": "8aba7e89-7339-44ff-a377-404fc2d833cf",
   "metadata": {},
   "outputs": [],
   "source": [
    "# positional versus keyword arguments\n",
    "\n",
    "def multplus(x, y):\n",
    "    return x * y + y\n",
    "\n",
    "# call using positional argument\n",
    "a = multplus(3, 5)\n",
    "print(a)\n",
    "\n",
    "# call using keyword argument\n",
    "# Note that the keywords can be \"out of order\"\n",
    "a = multplus(y=3, x=5)\n",
    "print(a)"
   ]
  },
  {
   "cell_type": "code",
   "execution_count": null,
   "id": "9278f20e-a224-4740-bcad-082c9d21ba44",
   "metadata": {},
   "outputs": [],
   "source": [
    "# keyword only and position only arguments\n",
    "\n",
    "def some_func(x, /, y, *, z):\n",
    "    return x + y + z\n",
    "\n",
    "a = some_func(1, 2, z=3) # OK\n",
    "print(a)\n",
    "\n",
    "a = some_func(1, z=3, y=2) # also OK\n",
    "print(a)\n",
    "\n",
    "some_func(1, 2, 3) # bad"
   ]
  },
  {
   "cell_type": "code",
   "execution_count": null,
   "id": "bcaac0b0-ecb7-4e70-9db9-4b3a5749be9a",
   "metadata": {},
   "outputs": [],
   "source": [
    "# Trap: empty collection default\n",
    "\n",
    "def add_to_list(a, base=[]):\n",
    "\tbase.append(a)\n",
    "\tprint(base)\n",
    "\treturn base\n",
    "    \n",
    "add_to_list(1)\n",
    "add_to_list(2);"
   ]
  },
  {
   "cell_type": "code",
   "execution_count": null,
   "id": "19031ff4-362d-4c23-89b5-255f9a946a4b",
   "metadata": {},
   "outputs": [],
   "source": [
    "# Fixing the trap: use None\n",
    "\n",
    "def add_to_list(a, base=None):\n",
    "\n",
    "    if base is None:\n",
    "        base = []\n",
    "\n",
    "    base.append(a)\n",
    "    print(base)\n",
    "    return base\n",
    "    \n",
    "add_to_list(1)\n",
    "add_to_list(2);"
   ]
  },
  {
   "cell_type": "code",
   "execution_count": null,
   "id": "b3dd3567-6407-4953-af3e-3a8707fc1fa8",
   "metadata": {},
   "outputs": [],
   "source": [
    "# Example of sorted with key argument supplied\n",
    "records = [\n",
    "    (2654, 0.04), (2632, 0.86), (3435, 0.02), (2495, 0.2)\n",
    "]\n",
    "\n",
    "def rank_value(x):\n",
    "    return x[1]\n",
    "\n",
    "sorted(records, key=rank_value)"
   ]
  }
 ],
 "metadata": {
  "kernelspec": {
   "display_name": "Python [conda env:main]",
   "language": "python",
   "name": "conda-env-main-py"
  },
  "language_info": {
   "codemirror_mode": {
    "name": "ipython",
    "version": 3
   },
   "file_extension": ".py",
   "mimetype": "text/x-python",
   "name": "python",
   "nbconvert_exporter": "python",
   "pygments_lexer": "ipython3",
   "version": "3.12.8"
  }
 },
 "nbformat": 4,
 "nbformat_minor": 5
}
